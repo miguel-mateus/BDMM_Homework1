{
 "cells": [
  {
   "cell_type": "markdown",
   "metadata": {},
   "source": [
    "# Big Data Modeling and Management Assigment\n",
    "\n",
    "Gustavo Brito r20170760 - Mariana Albernaz r20170785 - Marta Santos r20170770 - Miguel Mateus r20170752\n",
    "\n",
    "\n",
    "## 🍺 The Beer project  🍺 \n",
    "\n",
    "As it was shown in classes, graph databases are a natural way of navegating distinct types of data. For this first project we will be taking a graph database to analyse beer and breweries!   \n",
    "\n",
    "_For reference the dataset used for this project has been extracted from [kaggle](https://www.kaggle.com/ehallmar/beers-breweries-and-beer-reviews), released by Evan Hallmark. Even though the author does not present metada on the origin of the data it is probably a collection of open data from places like [beeradvocate](https://www.beeradvocate.com/)_ \n",
    "\n",
    "#### Problem description\n",
    "\n",
    "Explore the database via python neo4j connector and/or the graphical tool in the NEO4J webpage. Answer the questions. Submit the results by following the instructions\n",
    "\n",
    "#### Connection details to the neo4j database\n",
    "```\n",
    "Host: rhea.isegi.unl.pt:7474  \n",
    "Username: neo4j  \n",
    "Password: F3cfcrnvBev57KZ8mcMk78L9wHgJVZuJ \n",
    "Connect URL : bolt://rhea.isegi.unl.pt:7687\n",
    "```\n",
    "\n",
    "\n",
    "#### Questions\n",
    "\n",
    "\n",
    "0. __Example Question__ _How many beers does the database contain?_\n",
    "1. How many different countries exist in the database?\n",
    "1. Most reviews:  \n",
    "    1. Which `Beer` has the most reviews?  \n",
    "    1. Which `Brewery` has the most reviews for its beers?\n",
    "    1. Which `Country` has the most reviews for its beers? \n",
    "1. Find the user/users that have the most shared reviews (reviews of the same beers) with the user CTJman?\n",
    "1. Which Portuguese brewery has the most beers?\n",
    "1. From those beers (the ones returned from the previous question), which has the most reviews?\n",
    "1. On average how many different beer styles does each brewery produce?\n",
    "1. Which brewery produces the strongest beers according to ABV?\n",
    "1. If I typically enjoy a beer due to its aroma and appearance, which beer style should I try?\n",
    "1. Using Graph Algorithms answer **two** of the following questions:\n",
    "    1. Which two Countries are most similiar when it comes to their **top 10** most produced Beer styles?\n",
    "    1. Which beer has the most similar reviews as the beer `Super Bock Stout`?\n",
    "    1. Which user is the most influential when it comes to reviews made?\n",
    "    1. Which beer styles are more central when it comes the amount of beers? \\\n",
    "    Note: In case of a tie for the top entity, in terms of metrics outputed from the algorithms, **simply output the first.**\n",
    "1. If you had to pick 3 beers to recommend using only this database, which would you pick and why?\n",
    "\n",
    "\n",
    " Questions 8 to 10 are somewhat open, which means we'll also be evaluating the reasoning behind your answer. So there aren't necessarily bad results there are only wrong criteria, explanations or execution. \n",
    " \n",
    "##### Groups  \n",
    "\n",
    "Groups should have 4 to 5 people  \n",
    "You should register your group on moodle. An email will be going out to everyone with the credentials for the database to use when storing the results.\n",
    "\n",
    "\n",
    "##### Submission      \n",
    "\n",
    "Submission of the query results to be done to the group's redis database (explained on the first class, credentials sent via email).  \n",
    "The following format is expected:\n",
    "```\n",
    "    >>> redis.set(\"0\", \"358873\")\n",
    "```\n",
    "\n",
    "This result should be the anwser of the group to question 0\n",
    "\n",
    "The code used to produce the results and respective explations should be uploaded to moodle. They should have a clear reference to the group, either on the file name or on the document itself. Preferably one Jupyter notebook per group.\n",
    "\n",
    "Delivery date: Until the **midnight of May 2nd**\n",
    "\n",
    "##### Evaluation   \n",
    "\n",
    "This will be 20% of the final grade.   \n",
    "Each solution will be evaluated on 2 components: correctness of results and simplicity of the solution.  \n",
    "All code will go through plagiarism automated checks. Groups with the same code will undergo investigation.\n",
    "\n",
    "**Note:**\n",
    "Remember the Neo4j is a shared database and when creating in-memory graphs please use your group's prefix.  \n",
    "Ex. Instead of `my-graph` as the name of your graph please use `group0-my-graph`."
   ]
  },
  {
   "cell_type": "code",
   "execution_count": 1,
   "metadata": {
    "ExecuteTime": {
     "end_time": "2021-05-01T13:16:46.491077Z",
     "start_time": "2021-05-01T13:16:45.738715Z"
    }
   },
   "outputs": [
    {
     "data": {
      "text/plain": [
       "[{'count(*)': 9647598}]"
      ]
     },
     "execution_count": 1,
     "metadata": {},
     "output_type": "execute_result"
    }
   ],
   "source": [
    "import py2neo\n",
    "\n",
    "username=\"neo4j\"\n",
    "password=\"F3cfcrnvBev57KZ8mcMk78L9wHgJVZuJ\"\n",
    "host=\"rhea.isegi.unl.pt\"\n",
    "port=\"7687\"\n",
    "\n",
    "secure_graph = py2neo.Graph(f\"bolt://{username}:{password}@{host}:{port}\")\n",
    "secure_graph.run(\"MATCH () RETURN count(*)\").data()"
   ]
  },
  {
   "cell_type": "markdown",
   "metadata": {},
   "source": [
    "## 0. Example Question How many beers does the database contain?"
   ]
  },
  {
   "cell_type": "code",
   "execution_count": 3,
   "metadata": {
    "ExecuteTime": {
     "end_time": "2021-05-01T13:24:10.410533Z",
     "start_time": "2021-05-01T13:24:10.359659Z"
    }
   },
   "outputs": [
    {
     "data": {
      "text/plain": [
       "[{'total_number_of_beers': 358873}]"
      ]
     },
     "execution_count": 3,
     "metadata": {},
     "output_type": "execute_result"
    }
   ],
   "source": [
    "secure_graph.run(\"\"\"\n",
    "        MATCH (b:Beers)\n",
    "        RETURN count(b) as total_number_of_beers\n",
    "\"\"\").data()"
   ]
  },
  {
   "cell_type": "markdown",
   "metadata": {},
   "source": [
    "## 1. How many different countries exist in the database?"
   ]
  },
  {
   "cell_type": "code",
   "execution_count": 4,
   "metadata": {
    "ExecuteTime": {
     "end_time": "2021-05-01T13:24:21.444685Z",
     "start_time": "2021-05-01T13:24:21.400054Z"
    }
   },
   "outputs": [
    {
     "data": {
      "text/plain": [
       "[{'total_number_of_countries': 200}]"
      ]
     },
     "execution_count": 4,
     "metadata": {},
     "output_type": "execute_result"
    }
   ],
   "source": [
    "secure_graph.run(\"\"\"\n",
    "        MATCH (c:Country)\n",
    "        RETURN count(c) as total_number_of_countries\n",
    "\"\"\").data()"
   ]
  },
  {
   "cell_type": "markdown",
   "metadata": {},
   "source": [
    "## 2A. Which Beer has the most reviews?"
   ]
  },
  {
   "cell_type": "code",
   "execution_count": 5,
   "metadata": {
    "ExecuteTime": {
     "end_time": "2021-05-01T13:17:17.194570Z",
     "start_time": "2021-05-01T13:16:50.354439Z"
    }
   },
   "outputs": [
    {
     "data": {
      "text/plain": [
       "[{'b.name': 'IPA', 'number_of_reviews': 31387}]"
      ]
     },
     "execution_count": 5,
     "metadata": {},
     "output_type": "execute_result"
    }
   ],
   "source": [
    "secure_graph.run(\"\"\"\n",
    " match (r:Reviews)-[:ABOUT]->(b:Beers)\n",
    " return b.name, count(r) as number_of_reviews\n",
    " order by number_of_reviews desc\n",
    " limit 1\n",
    "\"\"\").data()"
   ]
  },
  {
   "cell_type": "markdown",
   "metadata": {},
   "source": [
    "## 2B. Which Brewery has the most reviews for its beers?"
   ]
  },
  {
   "cell_type": "code",
   "execution_count": 6,
   "metadata": {
    "ExecuteTime": {
     "end_time": "2021-05-01T13:17:45.490600Z",
     "start_time": "2021-05-01T13:17:17.219519Z"
    }
   },
   "outputs": [
    {
     "data": {
      "text/plain": [
       "[{'br.name': 'Sierra Nevada Brewing Co.', 'number_of_reviews': 175161}]"
      ]
     },
     "execution_count": 6,
     "metadata": {},
     "output_type": "execute_result"
    }
   ],
   "source": [
    "secure_graph.run(\"\"\"\n",
    " match (r:Reviews)-[:ABOUT]-(:Beers)-[:BREWED_AT]-(br:Breweries)\n",
    " return br.name, count(r) as number_of_reviews\n",
    " order by number_of_reviews desc\n",
    " limit 1\n",
    "\"\"\").data()"
   ]
  },
  {
   "cell_type": "markdown",
   "metadata": {},
   "source": [
    "## 2C. Which Country has the most reviews for its beers?"
   ]
  },
  {
   "cell_type": "code",
   "execution_count": 3,
   "metadata": {
    "ExecuteTime": {
     "end_time": "2021-05-01T13:18:14.514100Z",
     "start_time": "2021-05-01T13:17:45.508553Z"
    }
   },
   "outputs": [
    {
     "data": {
      "text/plain": [
       "[{'c.country_digit': 'US', 'number_of_reviews': 7524410}]"
      ]
     },
     "execution_count": 3,
     "metadata": {},
     "output_type": "execute_result"
    }
   ],
   "source": [
    "secure_graph.run(\"\"\"\n",
    " match (r:Reviews)-[:ABOUT]-(:Beers)-[:BREWED_AT]-(:Breweries)-[:FROM]-(c:Country)\n",
    " return c.country_digit, count(r) as number_of_reviews\n",
    " order by number_of_reviews desc\n",
    " limit 1\n",
    "\"\"\").data()"
   ]
  },
  {
   "cell_type": "markdown",
   "metadata": {},
   "source": [
    "## 3. Find the user/users that have the most shared reviews (reviews of the same beers) with the user CTJman?"
   ]
  },
  {
   "cell_type": "code",
   "execution_count": 8,
   "metadata": {
    "ExecuteTime": {
     "end_time": "2021-05-01T13:19:09.099528Z",
     "start_time": "2021-05-01T13:18:14.536046Z"
    }
   },
   "outputs": [
    {
     "data": {
      "text/plain": [
       "[{'u2.user_name': 'acurtis', 'shared_reviews': 1428},\n",
       " {'u2.user_name': 'Texasfan549', 'shared_reviews': 1257},\n",
       " {'u2.user_name': 'kjkinsey', 'shared_reviews': 1205},\n",
       " {'u2.user_name': 'oline73', 'shared_reviews': 1191},\n",
       " {'u2.user_name': 'chippo33', 'shared_reviews': 1161}]"
      ]
     },
     "execution_count": 8,
     "metadata": {},
     "output_type": "execute_result"
    }
   ],
   "source": [
    "secure_graph.run(\"\"\"\n",
    " match (:Username{user_name: 'CTJman'})-[:MADE]-(:Reviews)-[:ABOUT]-(:Beers)-[:ABOUT]-(r2:Reviews)-[:MADE]-(u2:Username)\n",
    " return u2.user_name, count(r2) as shared_reviews\n",
    " order by shared_reviews desc\n",
    " limit 5\n",
    "\"\"\").data()"
   ]
  },
  {
   "cell_type": "markdown",
   "metadata": {},
   "source": [
    "## 4. Which Portuguese brewery has the most beers?"
   ]
  },
  {
   "cell_type": "code",
   "execution_count": 9,
   "metadata": {
    "ExecuteTime": {
     "end_time": "2021-05-01T13:19:09.205647Z",
     "start_time": "2021-05-01T13:19:09.119476Z"
    }
   },
   "outputs": [
    {
     "data": {
      "text/plain": [
       "[{'br.name': 'Dois Corvos Cervejeira', 'number_of_beers': 40}]"
      ]
     },
     "execution_count": 9,
     "metadata": {},
     "output_type": "execute_result"
    }
   ],
   "source": [
    "secure_graph.run(\"\"\"\n",
    " match (b:Beers)-[:BREWED_AT]-(br:Breweries)-[:FROM]-(:Country{country_digit: 'PT'})\n",
    " return br.name, count(b) as number_of_beers\n",
    " order by number_of_beers desc\n",
    " limit 1\n",
    "\"\"\").data()"
   ]
  },
  {
   "cell_type": "markdown",
   "metadata": {},
   "source": [
    "## 5. From those beers (the ones returned from the previous question), which has the most reviews?"
   ]
  },
  {
   "cell_type": "code",
   "execution_count": 10,
   "metadata": {
    "ExecuteTime": {
     "end_time": "2021-05-01T13:19:09.362406Z",
     "start_time": "2021-05-01T13:19:09.236569Z"
    }
   },
   "outputs": [
    {
     "data": {
      "text/plain": [
       "[{'b.name': 'Finisterra', 'number_of_reviews': 10}]"
      ]
     },
     "execution_count": 10,
     "metadata": {},
     "output_type": "execute_result"
    }
   ],
   "source": [
    "secure_graph.run(\"\"\"\n",
    " match (r:Reviews)-[:ABOUT]-(b:Beers)-[:BREWED_AT]-(br:Breweries{name: 'Dois Corvos Cervejeira'})\n",
    " return b.name, count(r) as number_of_reviews\n",
    " order by number_of_reviews desc\n",
    " limit 1\n",
    "\"\"\").data()"
   ]
  },
  {
   "cell_type": "markdown",
   "metadata": {},
   "source": [
    "## 6. On average how many different beer styles does each brewery produce?"
   ]
  },
  {
   "cell_type": "code",
   "execution_count": 11,
   "metadata": {
    "ExecuteTime": {
     "end_time": "2021-05-01T13:19:10.888038Z",
     "start_time": "2021-05-01T13:19:09.411301Z"
    }
   },
   "outputs": [
    {
     "data": {
      "text/plain": [
       "[{'avg_different_styles': 10.595992516144603}]"
      ]
     },
     "execution_count": 11,
     "metadata": {},
     "output_type": "execute_result"
    }
   ],
   "source": [
    "secure_graph.run(\"\"\"\n",
    " match (br:Breweries)-[:BREWED_AT]-(b:Beers)-[:OF_TYPE]-(s:Style)\n",
    " with br, count(DISTINCT s) as styles\n",
    " return avg(styles) as avg_different_styles\n",
    "\"\"\").data()"
   ]
  },
  {
   "cell_type": "markdown",
   "metadata": {},
   "source": [
    "## 7. Which brewery produces the strongest beers according to ABV?"
   ]
  },
  {
   "cell_type": "markdown",
   "metadata": {},
   "source": [
    "To see which brewery produces the strongest beers according to ABV, we choose to select the one that produces, on average, beers with the highest ABV."
   ]
  },
  {
   "cell_type": "code",
   "execution_count": 12,
   "metadata": {
    "ExecuteTime": {
     "end_time": "2021-05-01T13:20:41.959083Z",
     "start_time": "2021-05-01T13:20:39.168345Z"
    }
   },
   "outputs": [
    {
     "data": {
      "text/plain": [
       "[{'br.name': '1648 Brewing Company Ltd', 'avg_abv': 25.57777777777778}]"
      ]
     },
     "execution_count": 12,
     "metadata": {},
     "output_type": "execute_result"
    }
   ],
   "source": [
    "secure_graph.run(\"\"\"\n",
    " match (b:Beers)-[:BREWED_AT]-(br:Breweries)\n",
    " where b.abv <> 'Unknown'\n",
    " return br.name, avg(toFloat(b.abv)) as avg_abv\n",
    " order by avg_abv desc\n",
    " limit 1\n",
    "\"\"\").data()"
   ]
  },
  {
   "cell_type": "markdown",
   "metadata": {},
   "source": [
    "## 8. If I typically enjoy a beer due to its aroma and appearance, which beer style should I try?"
   ]
  },
  {
   "cell_type": "markdown",
   "metadata": {},
   "source": [
    "To suggest a beer style, we choose to select the one that had, on average, the highest combined scores on smell (aroma) and look (appearance), across all reviews."
   ]
  },
  {
   "cell_type": "code",
   "execution_count": 13,
   "metadata": {
    "ExecuteTime": {
     "end_time": "2021-04-30T17:51:18.608540Z",
     "start_time": "2021-04-30T17:50:15.145382Z"
    }
   },
   "outputs": [
    {
     "data": {
      "text/plain": [
       "[{'style': 'New England IPA',\n",
       "  'FinalScore': 8.797210377972094,\n",
       "  'appearance': 4.383595613210904,\n",
       "  'aroma': 4.41361476476119}]"
      ]
     },
     "execution_count": 13,
     "metadata": {},
     "output_type": "execute_result"
    }
   ],
   "source": [
    "secure_graph.run(\"\"\"\n",
    " match (r:Reviews)-[:ABOUT]-(:Beers)-[:OF_TYPE]-(s:Style)\n",
    " where  r.look <> 'Unknown' AND r.smell <> 'Unknown'\n",
    " return s.name AS style, avg(toFloat(r.look)) + avg(toFloat(r.smell)) AS FinalScore, avg(toFloat(r.look)) as appearance, avg(toFloat(r.smell)) as aroma\n",
    " order by FinalScore desc\n",
    " limit 1\n",
    "\"\"\").data()"
   ]
  },
  {
   "cell_type": "markdown",
   "metadata": {},
   "source": [
    "## 9C. Which user is the most influential when it comes to reviews made?"
   ]
  },
  {
   "cell_type": "markdown",
   "metadata": {},
   "source": [
    "To see which user is the most influential when it comes to reviews, a page rank algorithm was performed."
   ]
  },
  {
   "cell_type": "code",
   "execution_count": 18,
   "metadata": {
    "ExecuteTime": {
     "end_time": "2021-04-30T17:51:20.691540Z",
     "start_time": "2021-04-30T17:51:18.610519Z"
    }
   },
   "outputs": [
    {
     "data": {
      "text/plain": [
       "[{'nodeProjection': {'Username': {'properties': {}, 'label': 'Username'},\n",
       "   'Reviews': {'properties': {}, 'label': 'Reviews'}},\n",
       "  'relationshipProjection': {'MADE': {'orientation': 'REVERSE',\n",
       "    'aggregation': 'DEFAULT',\n",
       "    'type': 'MADE',\n",
       "    'properties': {}}},\n",
       "  'graphName': 'group10-my-graph-question9c',\n",
       "  'nodeCount': 9238064,\n",
       "  'relationshipCount': 9073128,\n",
       "  'createMillis': 2010}]"
      ]
     },
     "execution_count": 18,
     "metadata": {},
     "output_type": "execute_result"
    }
   ],
   "source": [
    "data = secure_graph.run(\n",
    "    \"\"\"\n",
    "        CALL gds.graph.create(\n",
    "            'group10-my-graph-question9c',\n",
    "            [\n",
    "                'Username',\n",
    "                'Reviews'\n",
    "            ],\n",
    "            {\n",
    "                MADE: {\n",
    "                    orientation: 'REVERSE'\n",
    "                }\n",
    "            }\n",
    "        )\n",
    "    \"\"\"\n",
    ").data()\n",
    "data"
   ]
  },
  {
   "cell_type": "code",
   "execution_count": 14,
   "metadata": {
    "ExecuteTime": {
     "end_time": "2021-04-30T17:51:27.728621Z",
     "start_time": "2021-04-30T17:51:20.693536Z"
    }
   },
   "outputs": [
    {
     "data": {
      "text/plain": [
       "[{'User': 'Sammy', 'score': 1759.3714309692384}]"
      ]
     },
     "execution_count": 14,
     "metadata": {},
     "output_type": "execute_result"
    }
   ],
   "source": [
    "data = secure_graph.run(\n",
    "    \"\"\"\n",
    "        CALL gds.pageRank.stream('group10-my-graph-question9c') YIELD nodeId, score\n",
    "        RETURN gds.util.asNode(nodeId).user_name AS User, score\n",
    "        ORDER BY score DESC LIMIT 1\n",
    "    \"\"\"\n",
    ").data()\n",
    "data"
   ]
  },
  {
   "cell_type": "markdown",
   "metadata": {},
   "source": [
    "## 9D. Which beer styles are more central when it comes the amount of beers?"
   ]
  },
  {
   "cell_type": "markdown",
   "metadata": {},
   "source": [
    "Similarly to the previous question, to find the most central beer styles, according to the amount of beers, a page rank algorithm was performed."
   ]
  },
  {
   "cell_type": "code",
   "execution_count": 16,
   "metadata": {
    "ExecuteTime": {
     "end_time": "2021-04-30T17:51:28.119197Z",
     "start_time": "2021-04-30T17:51:27.731511Z"
    }
   },
   "outputs": [
    {
     "data": {
      "text/plain": [
       "[{'nodeProjection': {'Style': {'properties': {}, 'label': 'Style'},\n",
       "   'Beers': {'properties': {}, 'label': 'Beers'}},\n",
       "  'relationshipProjection': {'OF_TYPE': {'orientation': 'NATURAL',\n",
       "    'aggregation': 'DEFAULT',\n",
       "    'type': 'OF_TYPE',\n",
       "    'properties': {}}},\n",
       "  'graphName': 'group10-my-graph-question9d',\n",
       "  'nodeCount': 358986,\n",
       "  'relationshipCount': 358873,\n",
       "  'createMillis': 4830}]"
      ]
     },
     "execution_count": 16,
     "metadata": {},
     "output_type": "execute_result"
    }
   ],
   "source": [
    "data = secure_graph.run(\n",
    "    \"\"\"\n",
    "        CALL gds.graph.create(\n",
    "            'group10-my-graph-question9d',\n",
    "            [\n",
    "                'Beers',\n",
    "                'Style'\n",
    "            ],\n",
    "            {\n",
    "                OF_TYPE: {\n",
    "                    orientation: 'NATURAL'\n",
    "                }\n",
    "            }\n",
    "        )\n",
    "    \"\"\"\n",
    ").data()\n",
    "data"
   ]
  },
  {
   "cell_type": "code",
   "execution_count": 17,
   "metadata": {
    "ExecuteTime": {
     "end_time": "2021-04-30T17:51:28.521728Z",
     "start_time": "2021-04-30T17:51:28.126185Z"
    }
   },
   "outputs": [
    {
     "data": {
      "text/plain": [
       "[{'Style': 'American IPA', 'score': 5702.417230224609},\n",
       " {'Style': 'American Pale Ale (APA)', 'score': 2825.5490661621093},\n",
       " {'Style': 'American Imperial IPA', 'score': 2338.292272949219}]"
      ]
     },
     "execution_count": 17,
     "metadata": {},
     "output_type": "execute_result"
    }
   ],
   "source": [
    "data = secure_graph.run(\n",
    "    \"\"\"\n",
    "        CALL gds.pageRank.stream('group10-my-graph-question9d') YIELD nodeId, score\n",
    "        RETURN gds.util.asNode(nodeId).name AS Style, score\n",
    "        ORDER BY score DESC LIMIT 3\n",
    "    \"\"\"\n",
    ").data()\n",
    "data"
   ]
  },
  {
   "cell_type": "markdown",
   "metadata": {},
   "source": [
    "## 10. If you had to pick 3 beers to recommend using only this database, which would you pick and why?"
   ]
  },
  {
   "cell_type": "markdown",
   "metadata": {},
   "source": [
    "We suggest the top 3 beers according to average review score, that have at least 500 reviews and are still being produced."
   ]
  },
  {
   "cell_type": "code",
   "execution_count": 5,
   "metadata": {
    "ExecuteTime": {
     "end_time": "2021-04-30T17:51:41.512775Z",
     "start_time": "2021-04-30T17:51:29.443601Z"
    }
   },
   "outputs": [
    {
     "data": {
      "text/plain": [
       "[{'beer': 'Kentucky Brunch Brand Stout', 'avg_score': 4.837735042735044},\n",
       " {'beer': 'Barrel-Aged Abraxas', 'avg_score': 4.742700831024935},\n",
       " {'beer': 'King Julius', 'avg_score': 4.736540600667414}]"
      ]
     },
     "execution_count": 5,
     "metadata": {},
     "output_type": "execute_result"
    }
   ],
   "source": [
    "secure_graph.run(\"\"\"\n",
    " match (r:Reviews)-[:ABOUT]-(b:Beers)\n",
    " with b, count(r) as review_numbers, avg(toFloat(r.score)) as avg_score\n",
    " where review_numbers > 500 and b.retired = 'f'\n",
    " return b.name AS beer, avg_score\n",
    " order by avg_score desc\n",
    " limit 3\n",
    "\"\"\").data()"
   ]
  },
  {
   "cell_type": "markdown",
   "metadata": {},
   "source": [
    "## Submission of the results"
   ]
  },
  {
   "cell_type": "code",
   "execution_count": 1,
   "metadata": {
    "ExecuteTime": {
     "end_time": "2021-04-30T17:51:41.527735Z",
     "start_time": "2021-04-30T17:51:41.519755Z"
    }
   },
   "outputs": [],
   "source": [
    "import redis\n",
    "\n",
    "r = redis.Redis(\n",
    "    host='rhea.isegi.unl.pt',                            \n",
    "    port='6388',                                         \n",
    "    password='o307U52I854Oi6O2B893V9gv49051022', \n",
    "    decode_responses=True\n",
    ")"
   ]
  },
  {
   "cell_type": "code",
   "execution_count": 2,
   "metadata": {
    "ExecuteTime": {
     "end_time": "2021-04-30T17:51:41.542942Z",
     "start_time": "2021-04-30T17:51:41.530740Z"
    }
   },
   "outputs": [
    {
     "data": {
      "text/plain": [
       "True"
      ]
     },
     "execution_count": 2,
     "metadata": {},
     "output_type": "execute_result"
    }
   ],
   "source": [
    "r.set(\"0\", \"358873\")\n",
    "r.set(\"1\", \"200\")\n",
    "r.set(\"2.a\", \"IPA\")\n",
    "r.set(\"2.b\", \"Sierra Nevada Brewing Co.\")\n",
    "r.set(\"2.c\", \"US\")\n",
    "r.set(\"3\", \"acurtis\")\n",
    "r.set(\"4\", \"Dois Corvos Cervejeira\")\n",
    "r.set(\"5\", \"Finisterra\")\n",
    "r.set(\"6\", \"10.595992516144603\")\n",
    "r.set(\"7\", \"1648 Brewing Company Ltd\")\n",
    "r.set(\"8\", \"New England IPA\")\n",
    "r.set(\"9.c\", \"Sammy\")\n",
    "r.set(\"9.d\", \"American IPA\")\n",
    "r.set(\"10\", \"Kentucky Brunch Brand Stout, Barrel-Aged Abraxas, King Julius\")"
   ]
  }
 ],
 "metadata": {
  "kernelspec": {
   "display_name": "Python 3",
   "language": "python",
   "name": "python3"
  },
  "language_info": {
   "codemirror_mode": {
    "name": "ipython",
    "version": 3
   },
   "file_extension": ".py",
   "mimetype": "text/x-python",
   "name": "python",
   "nbconvert_exporter": "python",
   "pygments_lexer": "ipython3",
   "version": "3.8.5"
  },
  "nbTranslate": {
   "displayLangs": [
    "*"
   ],
   "hotkey": "alt-t",
   "langInMainMenu": true,
   "sourceLang": "en",
   "targetLang": "fr",
   "useGoogleTranslate": true
  },
  "toc": {
   "base_numbering": 1,
   "nav_menu": {},
   "number_sections": true,
   "sideBar": true,
   "skip_h1_title": false,
   "title_cell": "Table of Contents",
   "title_sidebar": "Contents",
   "toc_cell": false,
   "toc_position": {},
   "toc_section_display": true,
   "toc_window_display": false
  },
  "varInspector": {
   "cols": {
    "lenName": 16,
    "lenType": 16,
    "lenVar": 40
   },
   "kernels_config": {
    "python": {
     "delete_cmd_postfix": "",
     "delete_cmd_prefix": "del ",
     "library": "var_list.py",
     "varRefreshCmd": "print(var_dic_list())"
    },
    "r": {
     "delete_cmd_postfix": ") ",
     "delete_cmd_prefix": "rm(",
     "library": "var_list.r",
     "varRefreshCmd": "cat(var_dic_list()) "
    }
   },
   "types_to_exclude": [
    "module",
    "function",
    "builtin_function_or_method",
    "instance",
    "_Feature"
   ],
   "window_display": false
  }
 },
 "nbformat": 4,
 "nbformat_minor": 4
}
